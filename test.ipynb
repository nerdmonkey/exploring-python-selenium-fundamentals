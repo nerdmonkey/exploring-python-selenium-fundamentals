{
 "cells": [
  {
   "cell_type": "code",
   "execution_count": null,
   "metadata": {},
   "outputs": [],
   "source": [
    "from selenium import webdriver\n",
    "from selenium.webdriver.common.by import By\n",
    "import requests\n",
    "from dotenv import load_dotenv\n",
    "from selenium.webdriver.chrome.service import Service  # Import the Service class\n",
    "from selenium.webdriver.chrome.options import Options  # Import the Options class\n",
    "import os\n",
    "\n",
    "\n",
    "# Specify the path to your .env file\n",
    "dotenv_path = '.env'\n",
    "\n",
    "# Load the .env file\n",
    "load_dotenv(dotenv_path)\n",
    "\n",
    "# Specify the path to your ChromeDriver executable\n",
    "driver_path = os.getenv(\"CHROME_DRIVER_PATH\")\n",
    "\n",
    "# Create an Options object and add the --headless argument\n",
    "chrome_options = Options()\n",
    "chrome_options.add_argument(\"--headless\")\n",
    "chrome_options.add_argument(\"--disable-gpu\")  # This option is often recommended for headless mode\n",
    "\n",
    "# Initialize the WebDriver with the Service object and the Chrome options\n",
    "service = Service(executable_path=driver_path)\n",
    "driver = webdriver.Chrome(service=service, options=chrome_options)\n"
   ]
  },
  {
   "cell_type": "code",
   "execution_count": null,
   "metadata": {},
   "outputs": [],
   "source": [
    "# Navigate to the website\n",
    "driver.get('http://example.com')\n",
    "\n",
    "# Find the first link on the page and click it\n",
    "first_link = driver.find_element(By.TAG_NAME, 'a')\n",
    "print(first_link.text)\n",
    "\n",
    "# Get the URL of the first link\n",
    "url = first_link.get_attribute('href')\n",
    "\n",
    "# Send a GET request to the URL and get the response\n",
    "response = requests.get(url)\n",
    "\n",
    "# Get the content of the response (HTML of the page)\n",
    "page_content = response.text\n",
    "\n",
    "# Print the page content\n",
    "print(page_content)\n",
    "\n",
    "first_link.click()\n",
    "\n",
    "# Close the browser window\n",
    "driver.quit()\n"
   ]
  }
 ],
 "metadata": {
  "kernelspec": {
   "display_name": ".venv",
   "language": "python",
   "name": "python3"
  },
  "language_info": {
   "codemirror_mode": {
    "name": "ipython",
    "version": 3
   },
   "file_extension": ".py",
   "mimetype": "text/x-python",
   "name": "python",
   "nbconvert_exporter": "python",
   "pygments_lexer": "ipython3",
   "version": "3.11.7"
  }
 },
 "nbformat": 4,
 "nbformat_minor": 2
}
